{
  "nbformat": 4,
  "nbformat_minor": 0,
  "metadata": {
    "colab": {
      "provenance": []
    },
    "kernelspec": {
      "name": "python3",
      "display_name": "Python 3"
    },
    "language_info": {
      "name": "python"
    }
  },
  "cells": [
    {
      "cell_type": "code",
      "execution_count": 1,
      "metadata": {
        "id": "ypxRkInxdt-b"
      },
      "outputs": [],
      "source": [
        "import pandas as pd\n",
        "from sklearn.model_selection import train_test_split\n",
        "\n",
        "def load_data(file_path):\n",
        "    data = pd.read_csv(\"Bank Customer Churn Prediction.csv\")\n",
        "    X = data.drop(columns=['churn'])\n",
        "    y = data['churn']\n",
        "    return X, y\n"
      ]
    },
    {
      "cell_type": "markdown",
      "source": [],
      "metadata": {
        "id": "aoIr6kJ-eQfN"
      }
    },
    {
      "cell_type": "code",
      "source": [
        "from sklearn.preprocessing import OneHotEncoder, StandardScaler\n",
        "\n",
        "def preprocess_data(X):\n",
        "\n",
        "    X_encoded = pd.get_dummies(X, drop_first=True)\n",
        "\n",
        "\n",
        "    scaler = StandardScaler()\n",
        "    X_scaled = scaler.fit_transform(X_encoded)\n",
        "\n",
        "    return pd.DataFrame(X_scaled, columns=X_encoded.columns)\n"
      ],
      "metadata": {
        "id": "TZ_nvuzHeRdq"
      },
      "execution_count": 2,
      "outputs": []
    },
    {
      "cell_type": "markdown",
      "source": [],
      "metadata": {
        "id": "ws0ElJFOeXhj"
      }
    },
    {
      "cell_type": "code",
      "source": [
        "def split_data(X, y):\n",
        "    return train_test_split(X, y, test_size=0.3, random_state=42)\n"
      ],
      "metadata": {
        "id": "S6xxHgxVeXKA"
      },
      "execution_count": 3,
      "outputs": []
    },
    {
      "cell_type": "markdown",
      "source": [],
      "metadata": {
        "id": "wmPX5N0veaxa"
      }
    },
    {
      "cell_type": "code",
      "source": [
        "import numpy as np\n",
        "\n",
        "def sigmoid(z):\n",
        "    return 1 / (1 + np.exp(-z))\n"
      ],
      "metadata": {
        "id": "Kkd-6SwPebYB"
      },
      "execution_count": 4,
      "outputs": []
    },
    {
      "cell_type": "markdown",
      "source": [],
      "metadata": {
        "id": "aBf4wgIleglj"
      }
    },
    {
      "cell_type": "code",
      "source": [
        "def compute_cost(X, y, weights):\n",
        "    m = len(y)\n",
        "    predictions = sigmoid(np.dot(X, weights))\n",
        "    cost = -(1/m) * np.sum(y * np.log(predictions) + (1 - y) * np.log(1 - predictions))\n",
        "    return cost\n"
      ],
      "metadata": {
        "id": "RaZGefQ4egUo"
      },
      "execution_count": 5,
      "outputs": []
    },
    {
      "cell_type": "markdown",
      "source": [],
      "metadata": {
        "id": "NiQ5yiQ9elDp"
      }
    },
    {
      "cell_type": "code",
      "source": [
        "def gradient_descent(X, y, weights, learning_rate, num_epochs):\n",
        "    m = len(y)\n",
        "    costs = []\n",
        "\n",
        "    for epoch in range(num_epochs):\n",
        "        predictions = sigmoid(np.dot(X, weights))\n",
        "        gradients = np.dot(X.T, (predictions - y)) / m\n",
        "        weights -= learning_rate * gradients\n",
        "\n",
        "        cost = compute_cost(X, y, weights)\n",
        "        costs.append(cost)\n",
        "\n",
        "    return weights, costs\n"
      ],
      "metadata": {
        "id": "UY-AjRO7ekxZ"
      },
      "execution_count": 6,
      "outputs": []
    },
    {
      "cell_type": "markdown",
      "source": [],
      "metadata": {
        "id": "89_y3xGQep9e"
      }
    },
    {
      "cell_type": "code",
      "source": [
        "import matplotlib.pyplot as plt\n",
        "\n",
        "def plot_cost(costs, title=\"Cost vs Epochs\"):\n",
        "    plt.plot(range(len(costs)), costs)\n",
        "    plt.xlabel(\"Epochs\")\n",
        "    plt.ylabel(\"Cost\")\n",
        "    plt.title(title)\n",
        "    plt.show()\n"
      ],
      "metadata": {
        "id": "UugmIUXJeptE"
      },
      "execution_count": 7,
      "outputs": []
    },
    {
      "cell_type": "markdown",
      "source": [],
      "metadata": {
        "id": "OEdf3wG_e1p3"
      }
    },
    {
      "cell_type": "code",
      "source": [
        "def evaluate_model(X_train, y_train, X_test, y_test, weights):\n",
        "    # Training and testing costs\n",
        "    train_cost = compute_cost(X_train, y_train, weights)\n",
        "    test_cost = compute_cost(X_test, y_test, weights)\n",
        "\n",
        "    return train_cost, test_cost\n"
      ],
      "metadata": {
        "id": "42oLrdvCe1b8"
      },
      "execution_count": 8,
      "outputs": []
    },
    {
      "cell_type": "markdown",
      "source": [],
      "metadata": {
        "id": "RaIRvmh4e4t1"
      }
    },
    {
      "cell_type": "code",
      "source": [
        "from sklearn.linear_model import LogisticRegression\n",
        "from sklearn.metrics import accuracy_score, precision_score, recall_score, f1_score, confusion_matrix\n",
        "\n",
        "def train_sklearn_model(X_train, y_train, C, max_iter):\n",
        "    model = LogisticRegression(C=C, max_iter=max_iter, random_state=42)\n",
        "    model.fit(X_train, y_train)\n",
        "    return model\n"
      ],
      "metadata": {
        "id": "0hzs_Ye3e5_W"
      },
      "execution_count": 9,
      "outputs": []
    },
    {
      "cell_type": "markdown",
      "source": [],
      "metadata": {
        "id": "cgbSZQgKe9RW"
      }
    },
    {
      "cell_type": "code",
      "source": [
        "def evaluate_sklearn_model(model, X_train, y_train, X_test, y_test):\n",
        "    # Predictions\n",
        "    y_train_pred = model.predict(X_train)\n",
        "    y_test_pred = model.predict(X_test)\n",
        "\n",
        "    # Metrics\n",
        "    metrics = {\n",
        "        'Train Accuracy': accuracy_score(y_train, y_train_pred),\n",
        "        'Test Accuracy': accuracy_score(y_test, y_test_pred),\n",
        "        'Precision': precision_score(y_test, y_test_pred),\n",
        "        'Recall': recall_score(y_test, y_test_pred),\n",
        "        'F1-Score': f1_score(y_test, y_test_pred)\n",
        "    }\n",
        "\n",
        "    return metrics, confusion_matrix(y_test, y_test_pred)\n"
      ],
      "metadata": {
        "id": "rcBKsz5me9D2"
      },
      "execution_count": 10,
      "outputs": []
    },
    {
      "cell_type": "markdown",
      "source": [],
      "metadata": {
        "id": "s1RV95l5fA65"
      }
    },
    {
      "cell_type": "code",
      "source": [
        "def main(file_path):\n",
        "\n",
        "    X, y = load_data(file_path)\n",
        "    X = preprocess_data(X)\n",
        "    y = y.values\n",
        "\n",
        "    # Split data\n",
        "    X_train, X_test, y_train, y_test = split_data(X, y)\n",
        "\n",
        "\n",
        "    weights = np.zeros(X_train.shape[1])\n",
        "\n",
        "\n",
        "    weights, costs = gradient_descent(X_train, y_train, weights, learning_rate=0.01, num_epochs=1000)\n",
        "    plot_cost(costs, \"Training Cost for Manual Logistic Regression\")\n",
        "\n",
        "    train_cost, test_cost = evaluate_model(X_train, y_train, X_test, y_test, weights)\n",
        "    print(\"Training Cost:\", train_cost)\n",
        "    print(\"Testing Cost:\", test_cost)\n",
        "    model = train_sklearn_model(X_train, y_train, C=1.0, max_iter=500)\n",
        "    metrics, cm = evaluate_sklearn_model(model, X_train, y_train, X_test, y_test)\n",
        "\n",
        "    print(\"\\nSklearn Metrics:\")\n",
        "    for metric_name, metric_value in metrics.items():\n",
        "         print(f\"{metric_name}: {metric_value:.4f}\")  # Adjust decimal places as needed\n",
        "\n",
        "    print(\"Confusion Matrix:\\n\", cm)\n"
      ],
      "metadata": {
        "id": "JlKXleCPfAlz"
      },
      "execution_count": 19,
      "outputs": []
    },
    {
      "cell_type": "code",
      "source": [
        "if __name__ == \"__main__\":\n",
        "    main(\"path_to_your_csv_file.csv\")  # Replace with the actual path to your dataset\n"
      ],
      "metadata": {
        "colab": {
          "base_uri": "https://localhost:8080/",
          "height": 680
        },
        "id": "emhZZzi8fXDD",
        "outputId": "d9c41bab-c1f8-4f9e-8865-d17e0bbff1ff"
      },
      "execution_count": 20,
      "outputs": [
        {
          "output_type": "display_data",
          "data": {
            "text/plain": [
              "<Figure size 640x480 with 1 Axes>"
            ],
            "image/png": "[encoded data removed]"
          },
          "metadata": {}
        },
        {
          "output_type": "stream",
          "name": "stdout",
          "text": [
            "Training Cost: 0.6412000863183758\n",
            "Testing Cost: 0.6459062584404237\n",
            "\n",
            "Sklearn Metrics:\n",
            "Train Accuracy: 0.8100\n",
            "Test Accuracy: 0.8117\n",
            "Precision: 0.5446\n",
            "Recall: 0.1986\n",
            "F1-Score: 0.2911\n",
            "Confusion Matrix:\n",
            " [[2319   97]\n",
            " [ 468  116]]\n"
          ]
        }
      ]
    }
  ]
}